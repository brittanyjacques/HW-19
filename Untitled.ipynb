{
 "cells": [
  {
   "cell_type": "code",
   "execution_count": null,
   "id": "4e820654-9795-4345-ac3f-6c29d4bf71c9",
   "metadata": {},
   "outputs": [],
   "source": [
    "import streamlit as st\n",
    "from dataclasses import dataclass\n",
    "from typing import Any, List\n",
    "from web3 import Web3\n",
    "w3 = Web3(Web3.HTTPProvider('HTTP://127.0.0.1:7545'))"
   ]
  },
  {
   "cell_type": "code",
   "execution_count": null,
   "id": "bb1f2fc4-1222-487e-bd24-550e2d127157",
   "metadata": {},
   "outputs": [],
   "source": [
    "txt = \"Company12\"\n",
    "\n",
    "x = txt.isalnum()\n",
    "\n",
    "print(x)"
   ]
  },
  {
   "cell_type": "code",
   "execution_count": null,
   "id": "4231fa0b-7a32-4b80-8035-f0fbe0140f02",
   "metadata": {},
   "outputs": [],
   "source": [
    "ID_Doc = txt.isalnum()\n"
   ]
  }
 ],
 "metadata": {
  "kernelspec": {
   "display_name": "Python 3",
   "language": "python",
   "name": "python3"
  },
  "language_info": {
   "codemirror_mode": {
    "name": "ipython",
    "version": 3
   },
   "file_extension": ".py",
   "mimetype": "text/x-python",
   "name": "python",
   "nbconvert_exporter": "python",
   "pygments_lexer": "ipython3",
   "version": "3.8.8"
  }
 },
 "nbformat": 4,
 "nbformat_minor": 5
}
